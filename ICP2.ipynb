{
  "nbformat": 4,
  "nbformat_minor": 0,
  "metadata": {
    "colab": {
      "provenance": [],
      "toc_visible": true,
      "authorship_tag": "ABX9TyOm2jxovwSze2RHPlgrN+AJ",
      "include_colab_link": true
    },
    "kernelspec": {
      "name": "python3",
      "display_name": "Python 3"
    },
    "language_info": {
      "name": "python"
    }
  },
  "cells": [
    {
      "cell_type": "markdown",
      "metadata": {
        "id": "view-in-github",
        "colab_type": "text"
      },
      "source": [
        "<a href=\"https://colab.research.google.com/github/Saripalli-Karthik/NeuralNetwork-ICP2/blob/main/ICP2.ipynb\" target=\"_parent\"><img src=\"https://colab.research.google.com/assets/colab-badge.svg\" alt=\"Open In Colab\"/></a>"
      ]
    },
    {
      "cell_type": "code",
      "execution_count": 15,
      "metadata": {
        "colab": {
          "base_uri": "https://localhost:8080/",
          "height": 88
        },
        "id": "y5apavWeNjZq",
        "outputId": "e6ae02b8-8058-45f7-8c48-f42b069159ce"
      },
      "outputs": [
        {
          "output_type": "stream",
          "name": "stdout",
          "text": [
            "enter firstname:good\n",
            "enter secondname:evening\n",
            "good evening\n"
          ]
        },
        {
          "output_type": "execute_result",
          "data": {
            "text/plain": [
              "'go vnn'"
            ],
            "application/vnd.google.colaboratory.intrinsic+json": {
              "type": "string"
            }
          },
          "metadata": {},
          "execution_count": 15
        }
      ],
      "source": [
        "firstname = input(\"enter firstname:\")\n",
        "secondname= input(\"enter secondname:\")\n",
        "def Fullname(first,second):\n",
        "  return firstname+\" \"+secondname\n",
        "full=Fullname(firstname,secondname)\n",
        "print(full)\n",
        "def string_alternative(alternate_name):\n",
        "  return alternate_name[::2]\n",
        "string_alternative(full)"
      ]
    },
    {
      "cell_type": "code",
      "source": [
        "input_file = \"input.txt\"\n",
        "output_file = \"output.txt\"\n",
        "\n",
        "\n",
        "def count_word_occurrences(input_file, output_file):\n",
        "    word_counts = {}\n",
        "    input_file1 = open(input_file, 'r')\n",
        "    lines = input_file1.readlines()\n",
        "    input_file1.close()\n",
        "\n",
        "    for line in lines:\n",
        "        line = line.strip()\n",
        "        words = line.split()\n",
        "\n",
        "        for word in words:\n",
        "            if word in word_counts:\n",
        "                word_counts[word] += 1\n",
        "            else:\n",
        "                word_counts[word] = 1\n",
        "\n",
        "    output_lines = []\n",
        "    for line in lines:\n",
        "        output_lines.append(line.strip())\n",
        "    output_lines.append(\"Word_Count:\")\n",
        "    for word, count in word_counts.items():\n",
        "        output_lines.append(f\"{word}: {count}\")\n",
        "\n",
        "    for line in output_lines:\n",
        "        print(line)\n",
        "\n",
        "    output_file1 = open(output_file, 'w')\n",
        "    for line in output_lines:\n",
        "        output_file1.write(line + \"\\n\")\n",
        "    output_file1.close()\n",
        "\n",
        "\n",
        "count_word_occurrences(input_file, output_file)\n"
      ],
      "metadata": {
        "colab": {
          "base_uri": "https://localhost:8080/"
        },
        "id": "_eFKise_ae-6",
        "outputId": "dcb307ef-4f5b-4205-d6ff-31de87780612"
      },
      "execution_count": 37,
      "outputs": [
        {
          "output_type": "stream",
          "name": "stdout",
          "text": [
            "Python Course\n",
            "Deep Learning Course\n",
            "Word_Count:\n",
            "Python: 1\n",
            "Course: 2\n",
            "Deep: 1\n",
            "Learning: 1\n"
          ]
        }
      ]
    },
    {
      "cell_type": "code",
      "source": [
        "heights_in_inches = [int(x) for x in input().split()]\n",
        "heights_in_centimeters_forloop = []\n",
        "heights_in_centimeters_list=[]\n",
        "for height_in_inches in heights_in_inches:\n",
        "    height_in_cm = round(height_in_inches * 2.54, 2)\n",
        "    heights_in_centimeters_forloop.append(height_in_cm)\n",
        "print(\"Heights in Centimeters using for:\", heights_in_centimeters_forloop)\n",
        "\n",
        "heights_in_centimeters_list= [round(inch * 2.54, 2) for inch in heights_in_inches]\n",
        "print(\"Heights in Centimeters using comprehension list:\",heights_in_centimeters_list)\n"
      ],
      "metadata": {
        "colab": {
          "base_uri": "https://localhost:8080/"
        },
        "id": "fCSYjnKHa2SI",
        "outputId": "9a2031ab-1aa7-4b8d-b6d3-b6e456f252f2"
      },
      "execution_count": 43,
      "outputs": [
        {
          "output_type": "stream",
          "name": "stdout",
          "text": [
            "150 155 145 148\n",
            "Heights in Centimeters using for: [381.0, 393.7, 368.3, 375.92]\n",
            "Heights in Centimeters using comprehension list: [381.0, 393.7, 368.3, 375.92]\n"
          ]
        }
      ]
    }
  ]
}